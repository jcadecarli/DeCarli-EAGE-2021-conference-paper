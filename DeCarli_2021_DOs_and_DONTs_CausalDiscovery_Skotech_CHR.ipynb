{
  "nbformat": 4,
  "nbformat_minor": 0,
  "metadata": {
    "colab": {
      "name": "DeCarli.2021.DOs_and_DONTs_CausalDiscovery.Skotech.CHR.ipynb",
      "provenance": [],
      "toc_visible": true
    },
    "kernelspec": {
      "name": "python3",
      "display_name": "Python 3"
    },
    "language_info": {
      "name": "python"
    }
  },
  "cells": [
    {
      "cell_type": "markdown",
      "metadata": {
        "id": "Zq60-fT_fzE9"
      },
      "source": [
        "# Installing Libraries\n",
        "\n",
        "Installing Python necessary packages and libraries that are not by default installed in GoogleColab."
      ]
    },
    {
      "cell_type": "code",
      "metadata": {
        "id": "yR3Nx8ZQf4fL"
      },
      "source": [
        "!pip install tigramite # Main package for Time-Series Analysis"
      ],
      "execution_count": null,
      "outputs": []
    }
  ]
}